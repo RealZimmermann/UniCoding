{
 "cells": [
  {
   "cell_type": "code",
   "execution_count": 59,
   "outputs": [],
   "source": [
    "import pandas as pd"
   ],
   "metadata": {
    "collapsed": false,
    "ExecuteTime": {
     "start_time": "2023-04-30T11:44:19.839952Z",
     "end_time": "2023-04-30T11:44:19.854157Z"
    }
   }
  },
  {
   "cell_type": "code",
   "execution_count": 6,
   "outputs": [],
   "source": [
    "clubs = pd.read_csv('clubs.csv')"
   ],
   "metadata": {
    "collapsed": false,
    "ExecuteTime": {
     "start_time": "2023-04-30T11:30:00.809818Z",
     "end_time": "2023-04-30T11:30:00.821328Z"
    }
   }
  },
  {
   "cell_type": "code",
   "execution_count": 7,
   "outputs": [],
   "source": [
    "competitions = pd.read_csv('competitions.csv')"
   ],
   "metadata": {
    "collapsed": false,
    "ExecuteTime": {
     "start_time": "2023-04-30T11:30:01.438673Z",
     "end_time": "2023-04-30T11:30:01.448578Z"
    }
   }
  },
  {
   "cell_type": "code",
   "execution_count": 88,
   "outputs": [],
   "source": [
    "game_events = pd.read_csv('game_events.csv')"
   ],
   "metadata": {
    "collapsed": false,
    "ExecuteTime": {
     "start_time": "2023-04-30T16:43:56.174095Z",
     "end_time": "2023-04-30T16:43:56.546040Z"
    }
   }
  },
  {
   "cell_type": "code",
   "execution_count": 75,
   "outputs": [],
   "source": [
    "games = pd.read_csv('games.csv')"
   ],
   "metadata": {
    "collapsed": false,
    "ExecuteTime": {
     "start_time": "2023-04-30T11:48:08.877934Z",
     "end_time": "2023-04-30T11:48:09.109036Z"
    }
   }
  },
  {
   "cell_type": "code",
   "execution_count": 29,
   "outputs": [],
   "source": [
    "players = pd.read_csv('players.csv')"
   ],
   "metadata": {
    "collapsed": false,
    "ExecuteTime": {
     "start_time": "2023-04-30T11:32:05.349200Z",
     "end_time": "2023-04-30T11:32:05.529870Z"
    }
   }
  },
  {
   "cell_type": "code",
   "execution_count": 11,
   "outputs": [],
   "source": [
    "competitions_codes = ['premier-league', 'bundesliga','laliga', 'ligue-1', 'serie-a']"
   ],
   "metadata": {
    "collapsed": false,
    "ExecuteTime": {
     "start_time": "2023-04-30T11:30:04.313080Z",
     "end_time": "2023-04-30T11:30:04.317414Z"
    }
   }
  },
  {
   "cell_type": "code",
   "execution_count": 12,
   "outputs": [],
   "source": [
    "competitions_filtered = competitions[competitions['competition_code'].isin(competitions_codes)]"
   ],
   "metadata": {
    "collapsed": false,
    "ExecuteTime": {
     "start_time": "2023-04-30T11:30:05.010586Z",
     "end_time": "2023-04-30T11:30:05.014430Z"
    }
   }
  },
  {
   "cell_type": "code",
   "execution_count": 13,
   "outputs": [],
   "source": [
    "competitions_filtered = competitions_filtered.drop(columns=['competition_code','type','sub_type','country_id','country_name','country_latitude','country_longitude','domestic_league_code','confederation','url'])"
   ],
   "metadata": {
    "collapsed": false,
    "ExecuteTime": {
     "start_time": "2023-04-30T11:30:05.636584Z",
     "end_time": "2023-04-30T11:30:05.642154Z"
    }
   }
  },
  {
   "cell_type": "code",
   "execution_count": 14,
   "outputs": [],
   "source": [
    "competitions_filtered.to_csv('competitions.csv',index=False)"
   ],
   "metadata": {
    "collapsed": false,
    "ExecuteTime": {
     "start_time": "2023-04-30T11:30:06.332858Z",
     "end_time": "2023-04-30T11:30:06.342158Z"
    }
   }
  },
  {
   "cell_type": "code",
   "execution_count": 15,
   "outputs": [],
   "source": [
    "competition_ids = ['GB1', 'L1', 'ES1', 'FR1', 'IT1']"
   ],
   "metadata": {
    "collapsed": false,
    "ExecuteTime": {
     "start_time": "2023-04-30T11:30:07.070213Z",
     "end_time": "2023-04-30T11:30:07.081620Z"
    }
   }
  },
  {
   "cell_type": "code",
   "execution_count": 16,
   "outputs": [],
   "source": [
    "clubs_filtered = clubs[clubs['domestic_competition_id'].isin(competition_ids)]"
   ],
   "metadata": {
    "collapsed": false,
    "ExecuteTime": {
     "start_time": "2023-04-30T11:30:08.961711Z",
     "end_time": "2023-04-30T11:30:08.971250Z"
    }
   }
  },
  {
   "cell_type": "code",
   "execution_count": 17,
   "outputs": [],
   "source": [
    "clubs_filtered = clubs_filtered.drop(columns=['total_market_value','squad_size','average_age','foreigners_number','foreigners_percentage','national_team_players','net_transfer_record','coach_name','url'])"
   ],
   "metadata": {
    "collapsed": false,
    "ExecuteTime": {
     "start_time": "2023-04-30T11:30:09.577787Z",
     "end_time": "2023-04-30T11:30:09.585704Z"
    }
   }
  },
  {
   "cell_type": "code",
   "execution_count": 18,
   "outputs": [],
   "source": [
    "clubs_filtered.to_csv('clubs.csv',index=False)"
   ],
   "metadata": {
    "collapsed": false,
    "ExecuteTime": {
     "start_time": "2023-04-30T11:30:10.039439Z",
     "end_time": "2023-04-30T11:30:10.048701Z"
    }
   }
  },
  {
   "cell_type": "code",
   "execution_count": 30,
   "outputs": [],
   "source": [
    "players_filtered = players[players['current_club_id'].isin(clubs_filtered['club_id'])]"
   ],
   "metadata": {
    "collapsed": false,
    "ExecuteTime": {
     "start_time": "2023-04-30T11:32:10.479928Z",
     "end_time": "2023-04-30T11:32:10.491455Z"
    }
   }
  },
  {
   "cell_type": "code",
   "execution_count": 31,
   "outputs": [],
   "source": [
    "players_filtered = players_filtered.drop(columns=['current_club_name','country_of_birth','city_of_birth','sub_position','market_value_in_eur','highest_market_value_in_eur','agent_name','contract_expiration_date','current_club_domestic_competition_id','first_name','last_name','player_code','image_url','last_season','url'])"
   ],
   "metadata": {
    "collapsed": false,
    "ExecuteTime": {
     "start_time": "2023-04-30T11:32:11.563771Z",
     "end_time": "2023-04-30T11:32:11.569348Z"
    }
   }
  },
  {
   "cell_type": "code",
   "execution_count": 32,
   "outputs": [],
   "source": [
    "players_filtered.to_csv('players.csv',index=False)"
   ],
   "metadata": {
    "collapsed": false,
    "ExecuteTime": {
     "start_time": "2023-04-30T11:32:12.992685Z",
     "end_time": "2023-04-30T11:32:13.039762Z"
    }
   }
  },
  {
   "cell_type": "code",
   "execution_count": 76,
   "outputs": [],
   "source": [
    "games_filtered = games[games['competition_id'].isin(competition_ids)]"
   ],
   "metadata": {
    "collapsed": false,
    "ExecuteTime": {
     "start_time": "2023-04-30T11:48:16.792011Z",
     "end_time": "2023-04-30T11:48:16.817524Z"
    }
   }
  },
  {
   "cell_type": "code",
   "execution_count": 77,
   "outputs": [],
   "source": [
    "games_filtered = games_filtered.drop(columns=['competition_type','round','aggregate','home_club_position','away_club_position','club_home_name','club_away_name','home_club_manager_name','away_club_manager_name','referee','url'])"
   ],
   "metadata": {
    "collapsed": false,
    "ExecuteTime": {
     "start_time": "2023-04-30T11:48:17.573224Z",
     "end_time": "2023-04-30T11:48:17.577949Z"
    }
   }
  },
  {
   "cell_type": "code",
   "execution_count": 78,
   "outputs": [],
   "source": [
    "games_filtered = games_filtered.drop(games_filtered[games_filtered.season == 2012].index)"
   ],
   "metadata": {
    "collapsed": false,
    "ExecuteTime": {
     "start_time": "2023-04-30T11:48:18.332178Z",
     "end_time": "2023-04-30T11:48:18.339142Z"
    }
   }
  },
  {
   "cell_type": "code",
   "execution_count": 79,
   "outputs": [],
   "source": [
    "games_filtered.to_csv('games.csv',index=False)"
   ],
   "metadata": {
    "collapsed": false,
    "ExecuteTime": {
     "start_time": "2023-04-30T11:48:21.258398Z",
     "end_time": "2023-04-30T11:48:21.323217Z"
    }
   }
  },
  {
   "cell_type": "code",
   "execution_count": 89,
   "outputs": [],
   "source": [
    "game_events_filtered = game_events[game_events['game_id'].isin(games_filtered['game_id'])]"
   ],
   "metadata": {
    "collapsed": false,
    "ExecuteTime": {
     "start_time": "2023-04-30T16:44:02.258590Z",
     "end_time": "2023-04-30T16:44:02.294404Z"
    }
   }
  },
  {
   "cell_type": "code",
   "execution_count": 90,
   "outputs": [],
   "source": [
    "game_events_filtered = game_events_filtered.drop(game_events_filtered[game_events_filtered.type != 'Goals'].index)"
   ],
   "metadata": {
    "collapsed": false,
    "ExecuteTime": {
     "start_time": "2023-04-30T16:44:03.723659Z",
     "end_time": "2023-04-30T16:44:03.749116Z"
    }
   }
  },
  {
   "cell_type": "code",
   "execution_count": 91,
   "outputs": [],
   "source": [
    "game_events_filtered = game_events_filtered.drop(columns=['type','club_id','description','player_in_id'])"
   ],
   "metadata": {
    "collapsed": false,
    "ExecuteTime": {
     "start_time": "2023-04-30T16:44:04.974306Z",
     "end_time": "2023-04-30T16:44:04.978102Z"
    }
   }
  },
  {
   "cell_type": "code",
   "execution_count": 94,
   "outputs": [],
   "source": [
    "event_id = [*range(0, 48720, 1)]"
   ],
   "metadata": {
    "collapsed": false,
    "ExecuteTime": {
     "start_time": "2023-04-30T16:44:27.031872Z",
     "end_time": "2023-04-30T16:44:27.051581Z"
    }
   }
  },
  {
   "cell_type": "code",
   "execution_count": 95,
   "outputs": [],
   "source": [
    "game_events_filtered['event_id'] = event_id"
   ],
   "metadata": {
    "collapsed": false,
    "ExecuteTime": {
     "start_time": "2023-04-30T16:44:27.490436Z",
     "end_time": "2023-04-30T16:44:27.517280Z"
    }
   }
  },
  {
   "cell_type": "code",
   "execution_count": 96,
   "outputs": [],
   "source": [
    "game_events_filtered.to_csv('game_events.csv',index=False)"
   ],
   "metadata": {
    "collapsed": false,
    "ExecuteTime": {
     "start_time": "2023-04-30T16:44:28.768772Z",
     "end_time": "2023-04-30T16:44:28.854989Z"
    }
   }
  },
  {
   "cell_type": "code",
   "execution_count": null,
   "outputs": [],
   "source": [],
   "metadata": {
    "collapsed": false
   }
  }
 ],
 "metadata": {
  "kernelspec": {
   "display_name": "Python 3",
   "language": "python",
   "name": "python3"
  },
  "language_info": {
   "codemirror_mode": {
    "name": "ipython",
    "version": 2
   },
   "file_extension": ".py",
   "mimetype": "text/x-python",
   "name": "python",
   "nbconvert_exporter": "python",
   "pygments_lexer": "ipython2",
   "version": "2.7.6"
  }
 },
 "nbformat": 4,
 "nbformat_minor": 0
}
