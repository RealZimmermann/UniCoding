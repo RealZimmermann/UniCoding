{
 "cells": [
  {
   "cell_type": "code",
   "execution_count": 4,
   "outputs": [],
   "source": [
    "import pandas as pd"
   ],
   "metadata": {
    "collapsed": false,
    "ExecuteTime": {
     "start_time": "2023-04-12T17:18:33.717819Z",
     "end_time": "2023-04-12T17:18:38.480837Z"
    }
   }
  },
  {
   "cell_type": "markdown",
   "source": [],
   "metadata": {
    "collapsed": false
   }
  },
  {
   "cell_type": "code",
   "execution_count": 13,
   "outputs": [],
   "source": [
    "clubs = pd.read_csv('clubs.csv')"
   ],
   "metadata": {
    "collapsed": false,
    "ExecuteTime": {
     "start_time": "2023-04-12T17:35:59.019920Z",
     "end_time": "2023-04-12T17:35:59.031173Z"
    }
   }
  },
  {
   "cell_type": "code",
   "execution_count": 14,
   "outputs": [],
   "source": [
    "competitions = pd.read_csv('competitions.csv')"
   ],
   "metadata": {
    "collapsed": false,
    "ExecuteTime": {
     "start_time": "2023-04-12T17:36:13.800446Z",
     "end_time": "2023-04-12T17:36:13.824348Z"
    }
   }
  },
  {
   "cell_type": "code",
   "execution_count": 15,
   "outputs": [],
   "source": [
    "game_events = pd.read_csv('game_events.csv')"
   ],
   "metadata": {
    "collapsed": false,
    "ExecuteTime": {
     "start_time": "2023-04-12T17:36:28.960575Z",
     "end_time": "2023-04-12T17:36:29.259821Z"
    }
   }
  },
  {
   "cell_type": "code",
   "execution_count": 16,
   "outputs": [],
   "source": [
    "games = pd.read_csv('games.csv')"
   ],
   "metadata": {
    "collapsed": false,
    "ExecuteTime": {
     "start_time": "2023-04-12T17:36:37.444550Z",
     "end_time": "2023-04-12T17:36:37.633950Z"
    }
   }
  },
  {
   "cell_type": "code",
   "execution_count": 17,
   "outputs": [],
   "source": [
    "players = pd.read_csv('players.csv')"
   ],
   "metadata": {
    "collapsed": false,
    "ExecuteTime": {
     "start_time": "2023-04-12T17:36:47.340177Z",
     "end_time": "2023-04-12T17:36:47.500939Z"
    }
   }
  },
  {
   "cell_type": "code",
   "execution_count": 23,
   "outputs": [],
   "source": [
    "competitions_codes = ['bundesliga','laliga', 'ligue-1', 'premier-league', 'serie-a']"
   ],
   "metadata": {
    "collapsed": false,
    "ExecuteTime": {
     "start_time": "2023-04-12T17:56:34.110635Z",
     "end_time": "2023-04-12T17:56:34.114140Z"
    }
   }
  },
  {
   "cell_type": "code",
   "execution_count": 26,
   "outputs": [],
   "source": [
    "competitions_filtered = competitions[competitions['competition_code'].isin(competitions_codes)]"
   ],
   "metadata": {
    "collapsed": false,
    "ExecuteTime": {
     "start_time": "2023-04-12T18:01:22.564380Z",
     "end_time": "2023-04-12T18:01:22.567806Z"
    }
   }
  },
  {
   "cell_type": "code",
   "execution_count": 28,
   "outputs": [
    {
     "data": {
      "text/plain": "   competition_id competition_code            name             type  \\\n0              L1       bundesliga      Bundesliga  domestic_league   \n8             ES1           laliga          Laliga  domestic_league   \n14            FR1          ligue-1         Ligue 1  domestic_league   \n16            GB1   premier-league  Premier League  domestic_league   \n\n      sub_type  country_id country_name  country_latitude  country_longitude  \\\n0   first_tier          40      Germany         51.163818          10.447831   \n8   first_tier         157        Spain         39.326068          -4.837979   \n14  first_tier          50       France         46.603354           1.888334   \n16  first_tier         189      England         52.531021          -1.264906   \n\n   domestic_league_code confederation  \\\n0                    L1        europa   \n8                   ES1        europa   \n14                  FR1        europa   \n16                  GB1        europa   \n\n                                                  url  \n0   https://www.transfermarkt.co.uk/bundesliga/sta...  \n8   https://www.transfermarkt.co.uk/laliga/startse...  \n14  https://www.transfermarkt.co.uk/ligue-1/starts...  \n16  https://www.transfermarkt.co.uk/premier-league...  ",
      "text/html": "<div>\n<style scoped>\n    .dataframe tbody tr th:only-of-type {\n        vertical-align: middle;\n    }\n\n    .dataframe tbody tr th {\n        vertical-align: top;\n    }\n\n    .dataframe thead th {\n        text-align: right;\n    }\n</style>\n<table border=\"1\" class=\"dataframe\">\n  <thead>\n    <tr style=\"text-align: right;\">\n      <th></th>\n      <th>competition_id</th>\n      <th>competition_code</th>\n      <th>name</th>\n      <th>type</th>\n      <th>sub_type</th>\n      <th>country_id</th>\n      <th>country_name</th>\n      <th>country_latitude</th>\n      <th>country_longitude</th>\n      <th>domestic_league_code</th>\n      <th>confederation</th>\n      <th>url</th>\n    </tr>\n  </thead>\n  <tbody>\n    <tr>\n      <th>0</th>\n      <td>L1</td>\n      <td>bundesliga</td>\n      <td>Bundesliga</td>\n      <td>domestic_league</td>\n      <td>first_tier</td>\n      <td>40</td>\n      <td>Germany</td>\n      <td>51.163818</td>\n      <td>10.447831</td>\n      <td>L1</td>\n      <td>europa</td>\n      <td>https://www.transfermarkt.co.uk/bundesliga/sta...</td>\n    </tr>\n    <tr>\n      <th>8</th>\n      <td>ES1</td>\n      <td>laliga</td>\n      <td>Laliga</td>\n      <td>domestic_league</td>\n      <td>first_tier</td>\n      <td>157</td>\n      <td>Spain</td>\n      <td>39.326068</td>\n      <td>-4.837979</td>\n      <td>ES1</td>\n      <td>europa</td>\n      <td>https://www.transfermarkt.co.uk/laliga/startse...</td>\n    </tr>\n    <tr>\n      <th>14</th>\n      <td>FR1</td>\n      <td>ligue-1</td>\n      <td>Ligue 1</td>\n      <td>domestic_league</td>\n      <td>first_tier</td>\n      <td>50</td>\n      <td>France</td>\n      <td>46.603354</td>\n      <td>1.888334</td>\n      <td>FR1</td>\n      <td>europa</td>\n      <td>https://www.transfermarkt.co.uk/ligue-1/starts...</td>\n    </tr>\n    <tr>\n      <th>16</th>\n      <td>GB1</td>\n      <td>premier-league</td>\n      <td>Premier League</td>\n      <td>domestic_league</td>\n      <td>first_tier</td>\n      <td>189</td>\n      <td>England</td>\n      <td>52.531021</td>\n      <td>-1.264906</td>\n      <td>GB1</td>\n      <td>europa</td>\n      <td>https://www.transfermarkt.co.uk/premier-league...</td>\n    </tr>\n  </tbody>\n</table>\n</div>"
     },
     "execution_count": 28,
     "metadata": {},
     "output_type": "execute_result"
    }
   ],
   "source": [
    "competitions_filtered"
   ],
   "metadata": {
    "collapsed": false,
    "ExecuteTime": {
     "start_time": "2023-04-12T18:03:44.330805Z",
     "end_time": "2023-04-12T18:03:44.343663Z"
    }
   }
  },
  {
   "cell_type": "code",
   "execution_count": null,
   "outputs": [],
   "source": [],
   "metadata": {
    "collapsed": false
   }
  }
 ],
 "metadata": {
  "kernelspec": {
   "display_name": "Python 3",
   "language": "python",
   "name": "python3"
  },
  "language_info": {
   "codemirror_mode": {
    "name": "ipython",
    "version": 2
   },
   "file_extension": ".py",
   "mimetype": "text/x-python",
   "name": "python",
   "nbconvert_exporter": "python",
   "pygments_lexer": "ipython2",
   "version": "2.7.6"
  }
 },
 "nbformat": 4,
 "nbformat_minor": 0
}
