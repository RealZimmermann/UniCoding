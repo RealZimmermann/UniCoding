{
 "cells": [
  {
   "cell_type": "code",
   "execution_count": 186,
   "outputs": [],
   "source": [
    "import pandas as pd"
   ],
   "metadata": {
    "collapsed": false,
    "ExecuteTime": {
     "start_time": "2023-04-13T01:56:00.247486Z",
     "end_time": "2023-04-13T01:56:00.256651Z"
    }
   }
  },
  {
   "cell_type": "code",
   "execution_count": 187,
   "outputs": [],
   "source": [
    "clubs = pd.read_csv('clubs.csv')"
   ],
   "metadata": {
    "collapsed": false,
    "ExecuteTime": {
     "start_time": "2023-04-13T01:56:00.506876Z",
     "end_time": "2023-04-13T01:56:00.517694Z"
    }
   }
  },
  {
   "cell_type": "code",
   "execution_count": 188,
   "outputs": [],
   "source": [
    "competitions = pd.read_csv('competitions.csv')"
   ],
   "metadata": {
    "collapsed": false,
    "ExecuteTime": {
     "start_time": "2023-04-13T01:56:00.753040Z",
     "end_time": "2023-04-13T01:56:00.757537Z"
    }
   }
  },
  {
   "cell_type": "code",
   "execution_count": 189,
   "outputs": [],
   "source": [
    "game_events = pd.read_csv('game_events.csv')"
   ],
   "metadata": {
    "collapsed": false,
    "ExecuteTime": {
     "start_time": "2023-04-13T01:56:01.030797Z",
     "end_time": "2023-04-13T01:56:01.296473Z"
    }
   }
  },
  {
   "cell_type": "code",
   "execution_count": 190,
   "outputs": [],
   "source": [
    "games = pd.read_csv('games.csv')"
   ],
   "metadata": {
    "collapsed": false,
    "ExecuteTime": {
     "start_time": "2023-04-13T01:56:01.309258Z",
     "end_time": "2023-04-13T01:56:01.496456Z"
    }
   }
  },
  {
   "cell_type": "code",
   "execution_count": 191,
   "outputs": [],
   "source": [
    "players = pd.read_csv('players.csv')"
   ],
   "metadata": {
    "collapsed": false,
    "ExecuteTime": {
     "start_time": "2023-04-13T01:56:01.591664Z",
     "end_time": "2023-04-13T01:56:01.724289Z"
    }
   }
  },
  {
   "cell_type": "code",
   "execution_count": 192,
   "outputs": [],
   "source": [
    "competitions_codes = ['premier-league', 'bundesliga','laliga', 'ligue-1', 'serie-a']"
   ],
   "metadata": {
    "collapsed": false,
    "ExecuteTime": {
     "start_time": "2023-04-13T01:56:01.864332Z",
     "end_time": "2023-04-13T01:56:01.869629Z"
    }
   }
  },
  {
   "cell_type": "code",
   "execution_count": 193,
   "outputs": [],
   "source": [
    "competitions_filtered = competitions[competitions['competition_code'].isin(competitions_codes)]"
   ],
   "metadata": {
    "collapsed": false,
    "ExecuteTime": {
     "start_time": "2023-04-13T01:56:02.197686Z",
     "end_time": "2023-04-13T01:56:02.200257Z"
    }
   }
  },
  {
   "cell_type": "code",
   "execution_count": 194,
   "outputs": [],
   "source": [
    "competitions_filtered = competitions_filtered.drop(columns=['competition_code','type','sub_type','country_id','country_name','country_latitude','country_longitude','domestic_league_code','confederation','url'])"
   ],
   "metadata": {
    "collapsed": false,
    "ExecuteTime": {
     "start_time": "2023-04-13T01:56:02.530250Z",
     "end_time": "2023-04-13T01:56:02.537567Z"
    }
   }
  },
  {
   "cell_type": "code",
   "execution_count": null,
   "outputs": [],
   "source": [],
   "metadata": {
    "collapsed": false
   }
  },
  {
   "cell_type": "code",
   "execution_count": 195,
   "outputs": [],
   "source": [
    "competitions_filtered.to_csv('competitions.csv',index=False)"
   ],
   "metadata": {
    "collapsed": false,
    "ExecuteTime": {
     "start_time": "2023-04-13T01:56:02.876257Z",
     "end_time": "2023-04-13T01:56:02.881471Z"
    }
   }
  },
  {
   "cell_type": "code",
   "execution_count": 196,
   "outputs": [],
   "source": [
    "competition_ids = ['GB1', 'L1', 'ES1', 'FR1', 'IT1']"
   ],
   "metadata": {
    "collapsed": false,
    "ExecuteTime": {
     "start_time": "2023-04-13T01:56:03.570929Z",
     "end_time": "2023-04-13T01:56:03.580723Z"
    }
   }
  },
  {
   "cell_type": "code",
   "execution_count": 197,
   "outputs": [],
   "source": [
    "clubs_filtered = clubs[clubs['domestic_competition_id'].isin(competition_ids)]"
   ],
   "metadata": {
    "collapsed": false,
    "ExecuteTime": {
     "start_time": "2023-04-13T01:56:03.919084Z",
     "end_time": "2023-04-13T01:56:03.924199Z"
    }
   }
  },
  {
   "cell_type": "code",
   "execution_count": 198,
   "outputs": [],
   "source": [
    "clubs_filtered = clubs_filtered.drop(columns=['total_market_value','squad_size','average_age','foreigners_number','foreigners_percentage','national_team_players','net_transfer_record','coach_name','url'])"
   ],
   "metadata": {
    "collapsed": false,
    "ExecuteTime": {
     "start_time": "2023-04-13T01:56:04.198290Z",
     "end_time": "2023-04-13T01:56:04.204070Z"
    }
   }
  },
  {
   "cell_type": "code",
   "execution_count": 199,
   "outputs": [],
   "source": [
    "clubs_filtered.to_csv('clubs.csv',index=False)"
   ],
   "metadata": {
    "collapsed": false,
    "ExecuteTime": {
     "start_time": "2023-04-13T01:56:04.489816Z",
     "end_time": "2023-04-13T01:56:04.493982Z"
    }
   }
  },
  {
   "cell_type": "code",
   "execution_count": 200,
   "outputs": [],
   "source": [
    "players_filtered = players[players['current_club_id'].isin(clubs_filtered['club_id'])]"
   ],
   "metadata": {
    "collapsed": false,
    "ExecuteTime": {
     "start_time": "2023-04-13T01:56:04.768889Z",
     "end_time": "2023-04-13T01:56:04.773268Z"
    }
   }
  },
  {
   "cell_type": "code",
   "execution_count": 201,
   "outputs": [],
   "source": [
    "players_filtered = players_filtered.drop(columns=['current_club_name','country_of_birth','city_of_birth','sub_position','market_value_in_eur','highest_market_value_in_eur','agent_name','contract_expiration_date','current_club_domestic_competition_id','first_name','last_name','player_code','image_url','last_season','url'])"
   ],
   "metadata": {
    "collapsed": false,
    "ExecuteTime": {
     "start_time": "2023-04-13T01:56:05.029382Z",
     "end_time": "2023-04-13T01:56:05.031470Z"
    }
   }
  },
  {
   "cell_type": "code",
   "execution_count": 202,
   "outputs": [],
   "source": [
    "players_filtered.to_csv('players.csv',index=False)"
   ],
   "metadata": {
    "collapsed": false,
    "ExecuteTime": {
     "start_time": "2023-04-13T01:56:05.358049Z",
     "end_time": "2023-04-13T01:56:05.384678Z"
    }
   }
  },
  {
   "cell_type": "code",
   "execution_count": 203,
   "outputs": [],
   "source": [
    "games_filtered = games[games['competition_id'].isin(competition_ids)]"
   ],
   "metadata": {
    "collapsed": false,
    "ExecuteTime": {
     "start_time": "2023-04-13T01:56:05.730141Z",
     "end_time": "2023-04-13T01:56:05.738100Z"
    }
   }
  },
  {
   "cell_type": "code",
   "execution_count": 204,
   "outputs": [],
   "source": [
    "games_filtered = games_filtered.drop(columns=['competition_type','round','aggregate','home_club_position','away_club_position','club_home_name','club_away_name','home_club_manager_name','away_club_manager_name','referee','url'])"
   ],
   "metadata": {
    "collapsed": false,
    "ExecuteTime": {
     "start_time": "2023-04-13T01:56:06.140563Z",
     "end_time": "2023-04-13T01:56:06.143303Z"
    }
   }
  },
  {
   "cell_type": "code",
   "execution_count": 205,
   "outputs": [],
   "source": [
    "games_filtered.to_csv('games.csv',index=False)"
   ],
   "metadata": {
    "collapsed": false,
    "ExecuteTime": {
     "start_time": "2023-04-13T01:56:06.427569Z",
     "end_time": "2023-04-13T01:56:06.480762Z"
    }
   }
  },
  {
   "cell_type": "code",
   "execution_count": 206,
   "outputs": [],
   "source": [
    "game_events_filtered = game_events[game_events['game_id'].isin(games_filtered['game_id'])]"
   ],
   "metadata": {
    "collapsed": false,
    "ExecuteTime": {
     "start_time": "2023-04-13T01:56:06.756316Z",
     "end_time": "2023-04-13T01:56:06.774369Z"
    }
   }
  },
  {
   "cell_type": "code",
   "execution_count": 207,
   "outputs": [],
   "source": [
    "game_events_filtered = game_events_filtered.drop(columns=['type','club_id','player_id','description','player_in_id'])"
   ],
   "metadata": {
    "collapsed": false,
    "ExecuteTime": {
     "start_time": "2023-04-13T01:56:07.129782Z",
     "end_time": "2023-04-13T01:56:07.132834Z"
    }
   }
  },
  {
   "cell_type": "code",
   "execution_count": 208,
   "outputs": [],
   "source": [
    "game_events_filtered.to_csv('game_events.csv',index=False)"
   ],
   "metadata": {
    "collapsed": false,
    "ExecuteTime": {
     "start_time": "2023-04-13T01:56:07.641510Z",
     "end_time": "2023-04-13T01:56:07.794415Z"
    }
   }
  },
  {
   "cell_type": "code",
   "execution_count": null,
   "outputs": [],
   "source": [],
   "metadata": {
    "collapsed": false
   }
  }
 ],
 "metadata": {
  "kernelspec": {
   "display_name": "Python 3",
   "language": "python",
   "name": "python3"
  },
  "language_info": {
   "codemirror_mode": {
    "name": "ipython",
    "version": 2
   },
   "file_extension": ".py",
   "mimetype": "text/x-python",
   "name": "python",
   "nbconvert_exporter": "python",
   "pygments_lexer": "ipython2",
   "version": "2.7.6"
  }
 },
 "nbformat": 4,
 "nbformat_minor": 0
}
